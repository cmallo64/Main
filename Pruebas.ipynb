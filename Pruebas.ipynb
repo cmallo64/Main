{
  "nbformat": 4,
  "nbformat_minor": 5,
  "metadata": {
    "kernelspec": {
      "name": "python3",
      "display_name": "Python 3",
      "language": "python"
    },
    "language_info": {
      "name": "python",
      "version": "3.7.9",
      "mimetype": "text/x-python",
      "codemirror_mode": {
        "name": "ipython",
        "version": 3
      },
      "pygments_lexer": "ipython3",
      "nbconvert_exporter": "python",
      "file_extension": ".py"
    },
    "colab": {
      "name": "Pruebas.ipynb",
      "provenance": [],
      "include_colab_link": true
    }
  },
  "cells": [
    {
      "cell_type": "markdown",
      "metadata": {
        "id": "view-in-github",
        "colab_type": "text"
      },
      "source": [
        "<a href=\"https://colab.research.google.com/github/cmallo64/main/blob/main/Pruebas.ipynb\" target=\"_parent\"><img src=\"https://colab.research.google.com/assets/colab-badge.svg\" alt=\"Open In Colab\"/></a>"
      ]
    },
    {
      "cell_type": "markdown",
      "metadata": {
        "id": "-XfhePJXax5i"
      },
      "source": [
        "Python Syntax. Hello World!\n",
        "If programming is the act of teaching a computer to have a conversation with a user, it would be most useful to first teach the computer how to speak. In Python, this is accomplished with the print statement."
      ],
      "id": "-XfhePJXax5i"
    },
    {
      "cell_type": "code",
      "metadata": {
        "trusted": true,
        "colab": {
          "base_uri": "https://localhost:8080/"
        },
        "id": "a3X4hx_vax5u",
        "outputId": "b7556fdc-3e64-48c3-ee3f-83307cd31cc1"
      },
      "source": [
        "print (\"Hello, world!\")\n",
        "print (\"Water—there is not a drop of water there! Were Niagara but a cataract of sand, would you travel your thousand miles to see it?\" )"
      ],
      "id": "a3X4hx_vax5u",
      "execution_count": 1,
      "outputs": [
        {
          "output_type": "stream",
          "text": [
            "Hello, world!\n",
            "Water—there is not a drop of water there! Were Niagara but a cataract of sand, would you travel your thousand miles to see it?\n"
          ],
          "name": "stdout"
        }
      ]
    },
    {
      "cell_type": "markdown",
      "metadata": {
        "id": "mTKT9JwKax5w"
      },
      "source": [
        "A print statement is the easiest way to get your Python program to communicate with you. Being able to command this communication will be one of the most valuable tools in your programming toolbox."
      ],
      "id": "mTKT9JwKax5w"
    },
    {
      "cell_type": "markdown",
      "metadata": {
        "id": "7Y6W7GNNax5x"
      },
      "source": [
        "Instructions\n",
        "Using a print statement, output a message of your choosing to the terminal."
      ],
      "id": "7Y6W7GNNax5x"
    },
    {
      "cell_type": "code",
      "metadata": {
        "trusted": true,
        "id": "gQDU1w4Cax5x"
      },
      "source": [
        ""
      ],
      "id": "gQDU1w4Cax5x",
      "execution_count": null,
      "outputs": []
    }
  ]
}